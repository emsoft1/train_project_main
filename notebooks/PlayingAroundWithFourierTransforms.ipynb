{
 "cells": [
  {
   "cell_type": "markdown",
   "id": "45ffd54f",
   "metadata": {},
   "source": [
    "# Playing Around With Fourier Transforms\n",
    "We are following https://towardsdatascience.com/machine-learning-for-anomaly-detection-and-condition-monitoring-d4614e7de770"
   ]
  },
  {
   "cell_type": "code",
   "execution_count": 29,
   "id": "a49518dd",
   "metadata": {},
   "outputs": [
    {
     "name": "stderr",
     "output_type": "stream",
     "text": [
      "2024-03-12 01:10:04.826043: I tensorflow/core/platform/cpu_feature_guard.cc:193] This TensorFlow binary is optimized with oneAPI Deep Neural Network Library (oneDNN) to use the following CPU instructions in performance-critical operations:  AVX2 FMA\n",
      "To enable them in other operations, rebuild TensorFlow with the appropriate compiler flags.\n",
      "2024-03-12 01:10:05.348924: W tensorflow/stream_executor/platform/default/dso_loader.cc:64] Could not load dynamic library 'libcudart.so.11.0'; dlerror: libcudart.so.11.0: cannot open shared object file: No such file or directory\n",
      "2024-03-12 01:10:05.348944: I tensorflow/stream_executor/cuda/cudart_stub.cc:29] Ignore above cudart dlerror if you do not have a GPU set up on your machine.\n",
      "2024-03-12 01:10:05.427302: E tensorflow/stream_executor/cuda/cuda_blas.cc:2981] Unable to register cuBLAS factory: Attempting to register factory for plugin cuBLAS when one has already been registered\n",
      "2024-03-12 01:10:07.188112: W tensorflow/stream_executor/platform/default/dso_loader.cc:64] Could not load dynamic library 'libnvinfer.so.7'; dlerror: libnvinfer.so.7: cannot open shared object file: No such file or directory\n",
      "2024-03-12 01:10:07.188450: W tensorflow/stream_executor/platform/default/dso_loader.cc:64] Could not load dynamic library 'libnvinfer_plugin.so.7'; dlerror: libnvinfer_plugin.so.7: cannot open shared object file: No such file or directory\n",
      "2024-03-12 01:10:07.188466: W tensorflow/compiler/tf2tensorrt/utils/py_utils.cc:38] TF-TRT Warning: Cannot dlopen some TensorRT libraries. If you would like to use Nvidia GPU with TensorRT, please make sure the missing libraries mentioned above are installed properly.\n"
     ]
    }
   ],
   "source": [
    "# Common imports\n",
    "import os\n",
    "import pandas as pd\n",
    "import numpy as np\n",
    "\n",
    "import seaborn as sns\n",
    "sns.set(color_codes=True)\n",
    "import matplotlib.pyplot as plt\n",
    "%matplotlib inline\n",
    "\n",
    "from numpy.random import seed\n",
    "from tensorflow.random import set_seed\n",
    "\n",
    "from sklearn import preprocessing\n",
    "from keras.layers import Input, Dropout\n",
    "from keras.layers.core import Dense \n",
    "from keras.models import Model, Sequential, load_model\n",
    "from keras import regularizers\n",
    "from keras.models import model_from_json\n",
    "\n",
    "from scipy.fft import rfft"
   ]
  },
  {
   "cell_type": "markdown",
   "id": "863a933a",
   "metadata": {},
   "source": [
    "### My little library of functions\n",
    "\n",
    "I'll collect all functions at the top so I can copy them into a module easier."
   ]
  },
  {
   "cell_type": "code",
   "execution_count": 2,
   "id": "90300dbe",
   "metadata": {},
   "outputs": [],
   "source": [
    "def average_abs_fourier_transform(signal, num_buckets=1024):\n",
    "    bucket_size = len(signal)//num_buckets\n",
    "    assert(bucket_size == int(bucket_size))\n",
    "    # calculate abs and reshape by buckets\n",
    "    abs_signal = np.abs(signal)\n",
    "    abs_signal = abs_signal.reshape(num_buckets,bucket_size)\n",
    "    averaged = abs_signal.mean(axis=1)\n",
    "    return averaged"
   ]
  },
  {
   "cell_type": "code",
   "execution_count": 3,
   "id": "b4421b8d",
   "metadata": {},
   "outputs": [],
   "source": [
    "def create_bucketed_fourier_transform(raw_data_path, preprocessed_data_path, num_buckets):\n",
    "    merged_data = pd.DataFrame()\n",
    "    for ix, filename in enumerate(os.listdir(raw_data_path)):\n",
    "        dataset=pd.read_csv(os.path.join(data_dir, raw_path_end, filename), sep='\\t')\n",
    "        all_transforms = []\n",
    "        for i in range(dataset.shape[1]):\n",
    "            vibrations_over_time = dataset.iloc[:,i]\n",
    "            fourier_transform = rfft(vibrations_over_time.to_numpy())\n",
    "            averaged_transform = average_abs_fourier_transform(fourier_transform[:10240],num_buckets=num_buckets)\n",
    "            all_transforms.append(averaged_transform)\n",
    "        features = np.concatenate(all_transforms)\n",
    "        features = pd.DataFrame(features.reshape(1,-1))\n",
    "        features.index = [filename]\n",
    "        merged_data = pd.concat([merged_data, features])\n",
    "\n",
    "    col_names = []\n",
    "    for i in range(1,dataset.shape[1]+1):\n",
    "        for j in range(1,num_buckets+1):\n",
    "            col_names.append(f\"Br_{i}_Bu_{j}\")\n",
    "    merged_data.columns = col_names\n",
    "\n",
    "    merged_data.index = pd.to_datetime(merged_data.index, format='%Y.%m.%d.%H.%M.%S')\n",
    "    merged_data = merged_data.sort_index()\n",
    "    outfile = os.path.join(preprocessed_data_path, f'averaged_ft_{num_buckets}_buckets.csv')\n",
    "    merged_data.to_csv(outfile, index_label = 'timestamp')\n",
    "    print(f\"Dataframe with averaged FT written to {outfile}\")\n",
    "    "
   ]
  },
  {
   "cell_type": "markdown",
   "id": "9cb8525c",
   "metadata": {},
   "source": [
    "### Processing Raw data if preprocessed data does not exist yet.\n",
    "This file is assumed to be run from train_project_main/notebooks otherwise adapt file paths below."
   ]
  },
  {
   "cell_type": "code",
   "execution_count": 10,
   "id": "495c4102",
   "metadata": {},
   "outputs": [],
   "source": [
    "data_dir = '../data/IMS_bearings'\n",
    "raw_path_end = 'raw/2nd_test'\n",
    "prepro_path_end = 'preprocessed/2nd_test'\n",
    "\n",
    "raw_data_path = os.path.join(data_dir, raw_path_end)\n",
    "preprocessed_data_path = os.path.join(data_dir, prepro_path_end)\n",
    "bucket_sizes = [2**i for i in range(4,11)]"
   ]
  },
  {
   "cell_type": "code",
   "execution_count": 5,
   "id": "4aa503f8",
   "metadata": {},
   "outputs": [
    {
     "name": "stdout",
     "output_type": "stream",
     "text": [
      "Dataframe with averaged FT written to ../data/IMS_bearings/preprocessed/2nd_test/averaged_ft_1024_buckets.csv\n"
     ]
    }
   ],
   "source": [
    "for size in bucket_sizes:\n",
    "    create_bucketed_fourier_transform(raw_data_path,preprocessed_data_path,size)"
   ]
  },
  {
   "cell_type": "markdown",
   "id": "af5077ad",
   "metadata": {},
   "source": [
    "## Working with the preprocessed data"
   ]
  },
  {
   "cell_type": "code",
   "execution_count": 197,
   "id": "da9f5363",
   "metadata": {},
   "outputs": [
    {
     "data": {
      "text/html": [
       "<div>\n",
       "<style scoped>\n",
       "    .dataframe tbody tr th:only-of-type {\n",
       "        vertical-align: middle;\n",
       "    }\n",
       "\n",
       "    .dataframe tbody tr th {\n",
       "        vertical-align: top;\n",
       "    }\n",
       "\n",
       "    .dataframe thead th {\n",
       "        text-align: right;\n",
       "    }\n",
       "</style>\n",
       "<table border=\"1\" class=\"dataframe\">\n",
       "  <thead>\n",
       "    <tr style=\"text-align: right;\">\n",
       "      <th></th>\n",
       "      <th>Br_1_Bu_1</th>\n",
       "      <th>Br_1_Bu_2</th>\n",
       "      <th>Br_1_Bu_3</th>\n",
       "      <th>Br_1_Bu_4</th>\n",
       "      <th>Br_1_Bu_5</th>\n",
       "      <th>Br_1_Bu_6</th>\n",
       "      <th>Br_1_Bu_7</th>\n",
       "      <th>Br_1_Bu_8</th>\n",
       "      <th>Br_1_Bu_9</th>\n",
       "      <th>Br_1_Bu_10</th>\n",
       "      <th>...</th>\n",
       "      <th>Br_4_Bu_1015</th>\n",
       "      <th>Br_4_Bu_1016</th>\n",
       "      <th>Br_4_Bu_1017</th>\n",
       "      <th>Br_4_Bu_1018</th>\n",
       "      <th>Br_4_Bu_1019</th>\n",
       "      <th>Br_4_Bu_1020</th>\n",
       "      <th>Br_4_Bu_1021</th>\n",
       "      <th>Br_4_Bu_1022</th>\n",
       "      <th>Br_4_Bu_1023</th>\n",
       "      <th>Br_4_Bu_1024</th>\n",
       "    </tr>\n",
       "    <tr>\n",
       "      <th>timestamp</th>\n",
       "      <th></th>\n",
       "      <th></th>\n",
       "      <th></th>\n",
       "      <th></th>\n",
       "      <th></th>\n",
       "      <th></th>\n",
       "      <th></th>\n",
       "      <th></th>\n",
       "      <th></th>\n",
       "      <th></th>\n",
       "      <th></th>\n",
       "      <th></th>\n",
       "      <th></th>\n",
       "      <th></th>\n",
       "      <th></th>\n",
       "      <th></th>\n",
       "      <th></th>\n",
       "      <th></th>\n",
       "      <th></th>\n",
       "      <th></th>\n",
       "      <th></th>\n",
       "    </tr>\n",
       "  </thead>\n",
       "  <tbody>\n",
       "    <tr>\n",
       "      <th>2004-02-12 10:32:39</th>\n",
       "      <td>26.903135</td>\n",
       "      <td>6.203763</td>\n",
       "      <td>5.886258</td>\n",
       "      <td>13.891067</td>\n",
       "      <td>16.603897</td>\n",
       "      <td>30.420894</td>\n",
       "      <td>18.863562</td>\n",
       "      <td>13.506305</td>\n",
       "      <td>10.101365</td>\n",
       "      <td>9.089730</td>\n",
       "      <td>...</td>\n",
       "      <td>2.413372</td>\n",
       "      <td>2.242153</td>\n",
       "      <td>2.272921</td>\n",
       "      <td>2.858743</td>\n",
       "      <td>3.311524</td>\n",
       "      <td>2.797489</td>\n",
       "      <td>2.532701</td>\n",
       "      <td>3.342709</td>\n",
       "      <td>2.357315</td>\n",
       "      <td>2.958439</td>\n",
       "    </tr>\n",
       "    <tr>\n",
       "      <th>2004-02-12 10:42:39</th>\n",
       "      <td>9.216937</td>\n",
       "      <td>6.315469</td>\n",
       "      <td>7.504716</td>\n",
       "      <td>17.763260</td>\n",
       "      <td>20.577673</td>\n",
       "      <td>22.916778</td>\n",
       "      <td>15.058586</td>\n",
       "      <td>12.584818</td>\n",
       "      <td>7.478566</td>\n",
       "      <td>5.874054</td>\n",
       "      <td>...</td>\n",
       "      <td>3.043304</td>\n",
       "      <td>2.954317</td>\n",
       "      <td>2.084242</td>\n",
       "      <td>2.422959</td>\n",
       "      <td>2.097078</td>\n",
       "      <td>3.743464</td>\n",
       "      <td>2.948348</td>\n",
       "      <td>3.241554</td>\n",
       "      <td>4.115358</td>\n",
       "      <td>3.748754</td>\n",
       "    </tr>\n",
       "    <tr>\n",
       "      <th>2004-02-12 10:52:39</th>\n",
       "      <td>10.034218</td>\n",
       "      <td>6.560449</td>\n",
       "      <td>8.257709</td>\n",
       "      <td>26.396964</td>\n",
       "      <td>21.925208</td>\n",
       "      <td>28.252620</td>\n",
       "      <td>17.133095</td>\n",
       "      <td>8.602140</td>\n",
       "      <td>5.727607</td>\n",
       "      <td>8.133686</td>\n",
       "      <td>...</td>\n",
       "      <td>2.382865</td>\n",
       "      <td>2.900384</td>\n",
       "      <td>2.151955</td>\n",
       "      <td>3.258620</td>\n",
       "      <td>2.638877</td>\n",
       "      <td>4.034395</td>\n",
       "      <td>3.130111</td>\n",
       "      <td>3.440952</td>\n",
       "      <td>3.199771</td>\n",
       "      <td>3.311696</td>\n",
       "    </tr>\n",
       "    <tr>\n",
       "      <th>2004-02-12 11:02:39</th>\n",
       "      <td>10.307343</td>\n",
       "      <td>7.122653</td>\n",
       "      <td>7.518232</td>\n",
       "      <td>27.912910</td>\n",
       "      <td>20.212758</td>\n",
       "      <td>24.370686</td>\n",
       "      <td>19.222154</td>\n",
       "      <td>8.422242</td>\n",
       "      <td>6.342378</td>\n",
       "      <td>6.950195</td>\n",
       "      <td>...</td>\n",
       "      <td>3.071854</td>\n",
       "      <td>2.433580</td>\n",
       "      <td>2.363123</td>\n",
       "      <td>2.148055</td>\n",
       "      <td>2.987262</td>\n",
       "      <td>3.232365</td>\n",
       "      <td>3.436025</td>\n",
       "      <td>3.177865</td>\n",
       "      <td>3.217903</td>\n",
       "      <td>2.776066</td>\n",
       "    </tr>\n",
       "    <tr>\n",
       "      <th>2004-02-12 11:12:39</th>\n",
       "      <td>10.377186</td>\n",
       "      <td>6.150531</td>\n",
       "      <td>10.122263</td>\n",
       "      <td>22.547205</td>\n",
       "      <td>18.036845</td>\n",
       "      <td>23.728728</td>\n",
       "      <td>17.514555</td>\n",
       "      <td>8.589294</td>\n",
       "      <td>7.491661</td>\n",
       "      <td>7.208643</td>\n",
       "      <td>...</td>\n",
       "      <td>2.283760</td>\n",
       "      <td>2.896715</td>\n",
       "      <td>2.909494</td>\n",
       "      <td>3.111832</td>\n",
       "      <td>2.192142</td>\n",
       "      <td>3.211142</td>\n",
       "      <td>2.813883</td>\n",
       "      <td>4.138529</td>\n",
       "      <td>3.182723</td>\n",
       "      <td>3.340959</td>\n",
       "    </tr>\n",
       "  </tbody>\n",
       "</table>\n",
       "<p>5 rows × 4096 columns</p>\n",
       "</div>"
      ],
      "text/plain": [
       "                     Br_1_Bu_1  Br_1_Bu_2  Br_1_Bu_3  Br_1_Bu_4  Br_1_Bu_5  \\\n",
       "timestamp                                                                    \n",
       "2004-02-12 10:32:39  26.903135   6.203763   5.886258  13.891067  16.603897   \n",
       "2004-02-12 10:42:39   9.216937   6.315469   7.504716  17.763260  20.577673   \n",
       "2004-02-12 10:52:39  10.034218   6.560449   8.257709  26.396964  21.925208   \n",
       "2004-02-12 11:02:39  10.307343   7.122653   7.518232  27.912910  20.212758   \n",
       "2004-02-12 11:12:39  10.377186   6.150531  10.122263  22.547205  18.036845   \n",
       "\n",
       "                     Br_1_Bu_6  Br_1_Bu_7  Br_1_Bu_8  Br_1_Bu_9  Br_1_Bu_10  \\\n",
       "timestamp                                                                     \n",
       "2004-02-12 10:32:39  30.420894  18.863562  13.506305  10.101365    9.089730   \n",
       "2004-02-12 10:42:39  22.916778  15.058586  12.584818   7.478566    5.874054   \n",
       "2004-02-12 10:52:39  28.252620  17.133095   8.602140   5.727607    8.133686   \n",
       "2004-02-12 11:02:39  24.370686  19.222154   8.422242   6.342378    6.950195   \n",
       "2004-02-12 11:12:39  23.728728  17.514555   8.589294   7.491661    7.208643   \n",
       "\n",
       "                     ...  Br_4_Bu_1015  Br_4_Bu_1016  Br_4_Bu_1017  \\\n",
       "timestamp            ...                                             \n",
       "2004-02-12 10:32:39  ...      2.413372      2.242153      2.272921   \n",
       "2004-02-12 10:42:39  ...      3.043304      2.954317      2.084242   \n",
       "2004-02-12 10:52:39  ...      2.382865      2.900384      2.151955   \n",
       "2004-02-12 11:02:39  ...      3.071854      2.433580      2.363123   \n",
       "2004-02-12 11:12:39  ...      2.283760      2.896715      2.909494   \n",
       "\n",
       "                     Br_4_Bu_1018  Br_4_Bu_1019  Br_4_Bu_1020  Br_4_Bu_1021  \\\n",
       "timestamp                                                                     \n",
       "2004-02-12 10:32:39      2.858743      3.311524      2.797489      2.532701   \n",
       "2004-02-12 10:42:39      2.422959      2.097078      3.743464      2.948348   \n",
       "2004-02-12 10:52:39      3.258620      2.638877      4.034395      3.130111   \n",
       "2004-02-12 11:02:39      2.148055      2.987262      3.232365      3.436025   \n",
       "2004-02-12 11:12:39      3.111832      2.192142      3.211142      2.813883   \n",
       "\n",
       "                     Br_4_Bu_1022  Br_4_Bu_1023  Br_4_Bu_1024  \n",
       "timestamp                                                      \n",
       "2004-02-12 10:32:39      3.342709      2.357315      2.958439  \n",
       "2004-02-12 10:42:39      3.241554      4.115358      3.748754  \n",
       "2004-02-12 10:52:39      3.440952      3.199771      3.311696  \n",
       "2004-02-12 11:02:39      3.177865      3.217903      2.776066  \n",
       "2004-02-12 11:12:39      4.138529      3.182723      3.340959  \n",
       "\n",
       "[5 rows x 4096 columns]"
      ]
     },
     "execution_count": 197,
     "metadata": {},
     "output_type": "execute_result"
    }
   ],
   "source": [
    "EXPONENT = 10\n",
    "\n",
    "bucket_size = 2**EXPONENT\n",
    "\n",
    "ft_df = pd.read_csv(os.path.join(data_dir, prepro_path_end, f'averaged_ft_{bucket_size}_buckets.csv'), )\n",
    "ft_df.set_index('timestamp', inplace=True)\n",
    "ft_df.head()"
   ]
  },
  {
   "cell_type": "markdown",
   "id": "0049e3a3",
   "metadata": {},
   "source": [
    "### Split into \"normal\" and \"mixed\" behavior"
   ]
  },
  {
   "cell_type": "code",
   "execution_count": 198,
   "id": "62ec144c",
   "metadata": {},
   "outputs": [],
   "source": [
    "dataset_train = ft_df.iloc[:222]\n",
    "dataset_test = ft_df[222:]"
   ]
  },
  {
   "cell_type": "code",
   "execution_count": 199,
   "id": "d0040c30",
   "metadata": {},
   "outputs": [
    {
     "data": {
      "text/plain": [
       "((222, 4096), (762, 4096))"
      ]
     },
     "execution_count": 199,
     "metadata": {},
     "output_type": "execute_result"
    }
   ],
   "source": [
    "dataset_train.shape, dataset_test.shape "
   ]
  },
  {
   "cell_type": "code",
   "execution_count": 200,
   "id": "717b0571",
   "metadata": {},
   "outputs": [],
   "source": [
    "#dataset_train.plot(figsize = (12,6))"
   ]
  },
  {
   "cell_type": "code",
   "execution_count": 201,
   "id": "e5d534a3",
   "metadata": {},
   "outputs": [],
   "source": [
    "#ax = dataset_test.iloc[-285:-50,:].plot(figsize = (12,3))"
   ]
  },
  {
   "cell_type": "code",
   "execution_count": 202,
   "id": "c3799b80",
   "metadata": {},
   "outputs": [],
   "source": [
    "#ax = dataset_test.iloc[:-285,:].plot(figsize = (12,3) )"
   ]
  },
  {
   "cell_type": "markdown",
   "id": "3622fcda",
   "metadata": {},
   "source": [
    "### Normalize data"
   ]
  },
  {
   "cell_type": "code",
   "execution_count": 203,
   "id": "a7e7dc5a",
   "metadata": {},
   "outputs": [],
   "source": [
    "scaler = preprocessing.MinMaxScaler()\n",
    "\n",
    "X_train = pd.DataFrame(scaler.fit_transform(dataset_train), \n",
    "                              columns=dataset_train.columns, \n",
    "                              index=dataset_train.index)\n",
    "# Random shuffle training data\n",
    "X_train.sample(frac=1)\n",
    "\n",
    "X_test = pd.DataFrame(scaler.transform(dataset_test), \n",
    "                             columns=dataset_test.columns, \n",
    "                             index=dataset_test.index)\n",
    "\n",
    "X_full = pd.DataFrame(scaler.transform(ft_df), \n",
    "                             columns=dataset_test.columns, \n",
    "                             index=ft_df.index)\n"
   ]
  },
  {
   "cell_type": "code",
   "execution_count": null,
   "id": "3107a598",
   "metadata": {},
   "outputs": [],
   "source": [
    "def split_and_"
   ]
  },
  {
   "cell_type": "markdown",
   "id": "d4cf9a28",
   "metadata": {},
   "source": [
    "## Defining the autoencoder"
   ]
  },
  {
   "cell_type": "code",
   "execution_count": 204,
   "id": "9e5987d8",
   "metadata": {},
   "outputs": [],
   "source": [
    "seed(10)\n",
    "set_seed(10)\n",
    "act_func = 'elu'\n",
    "\n",
    "# Input layer:\n",
    "model=Sequential()\n",
    "# First hidden layer, connected to input vector X. \n",
    "model.add(Dense(5*EXPONENT,activation=act_func,\n",
    "                kernel_initializer='glorot_uniform',\n",
    "                kernel_regularizer=regularizers.l2(0.0),\n",
    "                input_shape=(X_train.shape[1],)\n",
    "               )\n",
    "         )\n",
    "\n",
    "model.add(Dense(EXPONENT,activation=act_func,\n",
    "                kernel_initializer='glorot_uniform'))\n",
    "\n",
    "model.add(Dense(5*EXPONENT,activation=act_func,\n",
    "                kernel_initializer='glorot_uniform'))\n",
    "\n",
    "model.add(Dense(X_train.shape[1],\n",
    "                kernel_initializer='glorot_uniform'))\n",
    "\n",
    "model.compile(loss='mse',optimizer='adam')\n",
    "\n",
    "# Train model for 100 epochs, batch size of 10: \n",
    "NUM_EPOCHS=100\n",
    "BATCH_SIZE=10"
   ]
  },
  {
   "cell_type": "code",
   "execution_count": 205,
   "id": "db055838",
   "metadata": {},
   "outputs": [
    {
     "name": "stdout",
     "output_type": "stream",
     "text": [
      "Model: \"sequential_8\"\n",
      "_________________________________________________________________\n",
      " Layer (type)                Output Shape              Param #   \n",
      "=================================================================\n",
      " dense_28 (Dense)            (None, 50)                204850    \n",
      "                                                                 \n",
      " dense_29 (Dense)            (None, 10)                510       \n",
      "                                                                 \n",
      " dense_30 (Dense)            (None, 50)                550       \n",
      "                                                                 \n",
      " dense_31 (Dense)            (None, 4096)              208896    \n",
      "                                                                 \n",
      "=================================================================\n",
      "Total params: 414,806\n",
      "Trainable params: 414,806\n",
      "Non-trainable params: 0\n",
      "_________________________________________________________________\n"
     ]
    }
   ],
   "source": [
    "model.summary()"
   ]
  },
  {
   "cell_type": "code",
   "execution_count": 206,
   "id": "690466b0",
   "metadata": {},
   "outputs": [
    {
     "name": "stdout",
     "output_type": "stream",
     "text": [
      "Epoch 1/100\n",
      "21/21 [==============================] - 1s 13ms/step - loss: 0.1149 - val_loss: 0.0385\n",
      "Epoch 2/100\n",
      "21/21 [==============================] - 0s 7ms/step - loss: 0.0359 - val_loss: 0.0337\n",
      "Epoch 3/100\n",
      "21/21 [==============================] - 0s 7ms/step - loss: 0.0338 - val_loss: 0.0333\n",
      "Epoch 4/100\n",
      "21/21 [==============================] - 0s 8ms/step - loss: 0.0336 - val_loss: 0.0334\n",
      "Epoch 5/100\n",
      "21/21 [==============================] - 0s 6ms/step - loss: 0.0336 - val_loss: 0.0333\n",
      "Epoch 6/100\n",
      "21/21 [==============================] - 0s 7ms/step - loss: 0.0336 - val_loss: 0.0334\n",
      "Epoch 7/100\n",
      "21/21 [==============================] - 0s 6ms/step - loss: 0.0336 - val_loss: 0.0333\n",
      "Epoch 8/100\n",
      "21/21 [==============================] - 0s 6ms/step - loss: 0.0335 - val_loss: 0.0334\n",
      "Epoch 9/100\n",
      "21/21 [==============================] - 0s 6ms/step - loss: 0.0336 - val_loss: 0.0334\n",
      "Epoch 10/100\n",
      "21/21 [==============================] - 0s 6ms/step - loss: 0.0337 - val_loss: 0.0333\n",
      "Epoch 11/100\n",
      "21/21 [==============================] - 0s 7ms/step - loss: 0.0336 - val_loss: 0.0335\n",
      "Epoch 12/100\n",
      "21/21 [==============================] - 0s 7ms/step - loss: 0.0336 - val_loss: 0.0334\n",
      "Epoch 13/100\n",
      "21/21 [==============================] - 0s 6ms/step - loss: 0.0336 - val_loss: 0.0334\n",
      "Epoch 14/100\n",
      "21/21 [==============================] - 0s 7ms/step - loss: 0.0336 - val_loss: 0.0334\n",
      "Epoch 15/100\n",
      "21/21 [==============================] - 0s 7ms/step - loss: 0.0336 - val_loss: 0.0335\n"
     ]
    }
   ],
   "source": [
    "from keras.callbacks import EarlyStopping\n",
    "\n",
    "es = EarlyStopping(patience=10)\n",
    "\n",
    "history=model.fit(np.array(X_train),np.array(X_train),\n",
    "                  batch_size=BATCH_SIZE, \n",
    "                  epochs=NUM_EPOCHS,\n",
    "                  validation_split=0.05,\n",
    "                  verbose = 1,\n",
    "                 callbacks = [es])"
   ]
  },
  {
   "cell_type": "code",
   "execution_count": null,
   "id": "fcfff5b1",
   "metadata": {},
   "outputs": [],
   "source": []
  },
  {
   "cell_type": "code",
   "execution_count": 207,
   "id": "3a6d6bfb",
   "metadata": {},
   "outputs": [
    {
     "data": {
      "image/png": "[encoded data removed]",
      "text/plain": [
       "<Figure size 640x480 with 1 Axes>"
      ]
     },
     "metadata": {},
     "output_type": "display_data"
    }
   ],
   "source": [
    "plt.plot(history.history['loss'],\n",
    "         'b',\n",
    "         label='Training loss')\n",
    "plt.plot(history.history['val_loss'],\n",
    "         'r',\n",
    "         label='Validation loss')\n",
    "plt.legend(loc='upper right')\n",
    "plt.xlabel('Epochs')\n",
    "plt.ylabel('Loss, [mse]')\n",
    "plt.ylim([0,.1])\n",
    "plt.show()"
   ]
  },
  {
   "cell_type": "code",
   "execution_count": 208,
   "id": "ab2f10af",
   "metadata": {},
   "outputs": [
    {
     "name": "stdout",
     "output_type": "stream",
     "text": [
      "7/7 [==============================] - 0s 3ms/step\n"
     ]
    }
   ],
   "source": [
    "X_pred = model.predict(np.array(X_train))\n",
    "X_pred = pd.DataFrame(X_pred, \n",
    "                      columns=X_train.columns)\n",
    "X_pred.index = X_train.index\n",
    "\n",
    "scored = pd.DataFrame(index=X_train.index)"
   ]
  },
  {
   "cell_type": "code",
   "execution_count": 209,
   "id": "51847047",
   "metadata": {},
   "outputs": [
    {
     "name": "stderr",
     "output_type": "stream",
     "text": [
      "/tmp/ipykernel_218907/4095504646.py:3: UserWarning: \n",
      "\n",
      "`distplot` is a deprecated function and will be removed in seaborn v0.14.0.\n",
      "\n",
      "Please adapt your code to use either `displot` (a figure-level function with\n",
      "similar flexibility) or `histplot` (an axes-level function for histograms).\n",
      "\n",
      "For a guide to updating your code to use the new functions, please see\n",
      "https://gist.github.com/mwaskom/de44147ed2974457ad6372750bbe5751\n",
      "\n",
      "  sns.distplot(scored['loss_mae'],\n"
     ]
    },
    {
     "data": {
      "text/plain": [
       "(0.0, 0.5)"
      ]
     },
     "execution_count": 209,
     "metadata": {},
     "output_type": "execute_result"
    },
    {
     "data": {
      "image/png": "[encoded data removed]",
      "text/plain": [
       "<Figure size 640x480 with 1 Axes>"
      ]
     },
     "metadata": {},
     "output_type": "display_data"
    }
   ],
   "source": [
    "scored['loss_mae'] = np.mean(np.abs(X_pred-X_train), axis = 1)\n",
    "plt.figure()\n",
    "sns.distplot(scored['loss_mae'],\n",
    "             bins = 10, \n",
    "             kde= True,\n",
    "            color = 'blue');\n",
    "plt.xlim([0.0,.5])"
   ]
  },
  {
   "cell_type": "code",
   "execution_count": 216,
   "id": "474cb8c2",
   "metadata": {},
   "outputs": [
    {
     "data": {
      "text/plain": [
       "0.19"
      ]
     },
     "execution_count": 216,
     "metadata": {},
     "output_type": "execute_result"
    }
   ],
   "source": [
    "threshold = 0.19\n",
    "threshold"
   ]
  },
  {
   "cell_type": "code",
   "execution_count": 217,
   "id": "7f5b7894",
   "metadata": {},
   "outputs": [
    {
     "name": "stdout",
     "output_type": "stream",
     "text": [
      "24/24 [==============================] - 0s 3ms/step\n"
     ]
    },
    {
     "data": {
      "text/html": [
       "<div>\n",
       "<style scoped>\n",
       "    .dataframe tbody tr th:only-of-type {\n",
       "        vertical-align: middle;\n",
       "    }\n",
       "\n",
       "    .dataframe tbody tr th {\n",
       "        vertical-align: top;\n",
       "    }\n",
       "\n",
       "    .dataframe thead th {\n",
       "        text-align: right;\n",
       "    }\n",
       "</style>\n",
       "<table border=\"1\" class=\"dataframe\">\n",
       "  <thead>\n",
       "    <tr style=\"text-align: right;\">\n",
       "      <th></th>\n",
       "      <th>loss_mae</th>\n",
       "      <th>threshold</th>\n",
       "      <th>anomaly</th>\n",
       "    </tr>\n",
       "    <tr>\n",
       "      <th>timestamp</th>\n",
       "      <th></th>\n",
       "      <th></th>\n",
       "      <th></th>\n",
       "    </tr>\n",
       "  </thead>\n",
       "  <tbody>\n",
       "    <tr>\n",
       "      <th>2004-02-13 23:32:39</th>\n",
       "      <td>0.143401</td>\n",
       "      <td>0.19</td>\n",
       "      <td>False</td>\n",
       "    </tr>\n",
       "    <tr>\n",
       "      <th>2004-02-13 23:42:39</th>\n",
       "      <td>0.143897</td>\n",
       "      <td>0.19</td>\n",
       "      <td>False</td>\n",
       "    </tr>\n",
       "    <tr>\n",
       "      <th>2004-02-13 23:52:39</th>\n",
       "      <td>0.145325</td>\n",
       "      <td>0.19</td>\n",
       "      <td>False</td>\n",
       "    </tr>\n",
       "    <tr>\n",
       "      <th>2004-02-14 00:02:39</th>\n",
       "      <td>0.144401</td>\n",
       "      <td>0.19</td>\n",
       "      <td>False</td>\n",
       "    </tr>\n",
       "    <tr>\n",
       "      <th>2004-02-14 00:12:39</th>\n",
       "      <td>0.142303</td>\n",
       "      <td>0.19</td>\n",
       "      <td>False</td>\n",
       "    </tr>\n",
       "    <tr>\n",
       "      <th>...</th>\n",
       "      <td>...</td>\n",
       "      <td>...</td>\n",
       "      <td>...</td>\n",
       "    </tr>\n",
       "    <tr>\n",
       "      <th>2004-02-19 05:42:39</th>\n",
       "      <td>3.096529</td>\n",
       "      <td>0.19</td>\n",
       "      <td>True</td>\n",
       "    </tr>\n",
       "    <tr>\n",
       "      <th>2004-02-19 05:52:39</th>\n",
       "      <td>1.712595</td>\n",
       "      <td>0.19</td>\n",
       "      <td>True</td>\n",
       "    </tr>\n",
       "    <tr>\n",
       "      <th>2004-02-19 06:02:39</th>\n",
       "      <td>1.833337</td>\n",
       "      <td>0.19</td>\n",
       "      <td>True</td>\n",
       "    </tr>\n",
       "    <tr>\n",
       "      <th>2004-02-19 06:12:39</th>\n",
       "      <td>1.036622</td>\n",
       "      <td>0.19</td>\n",
       "      <td>True</td>\n",
       "    </tr>\n",
       "    <tr>\n",
       "      <th>2004-02-19 06:22:39</th>\n",
       "      <td>1.042057</td>\n",
       "      <td>0.19</td>\n",
       "      <td>True</td>\n",
       "    </tr>\n",
       "  </tbody>\n",
       "</table>\n",
       "<p>762 rows × 3 columns</p>\n",
       "</div>"
      ],
      "text/plain": [
       "                     loss_mae  threshold  anomaly\n",
       "timestamp                                        \n",
       "2004-02-13 23:32:39  0.143401       0.19    False\n",
       "2004-02-13 23:42:39  0.143897       0.19    False\n",
       "2004-02-13 23:52:39  0.145325       0.19    False\n",
       "2004-02-14 00:02:39  0.144401       0.19    False\n",
       "2004-02-14 00:12:39  0.142303       0.19    False\n",
       "...                       ...        ...      ...\n",
       "2004-02-19 05:42:39  3.096529       0.19     True\n",
       "2004-02-19 05:52:39  1.712595       0.19     True\n",
       "2004-02-19 06:02:39  1.833337       0.19     True\n",
       "2004-02-19 06:12:39  1.036622       0.19     True\n",
       "2004-02-19 06:22:39  1.042057       0.19     True\n",
       "\n",
       "[762 rows x 3 columns]"
      ]
     },
     "execution_count": 217,
     "metadata": {},
     "output_type": "execute_result"
    }
   ],
   "source": [
    "X_pred = model.predict(np.array(X_test))\n",
    "X_pred = pd.DataFrame(X_pred, \n",
    "                      columns=X_test.columns)\n",
    "X_pred.index = X_test.index\n",
    "\n",
    "scored = pd.DataFrame(index=X_test.index)\n",
    "scored['loss_mae'] = np.mean(np.abs(X_pred-X_test), axis = 1)\n",
    "scored['threshold'] = threshold\n",
    "scored['anomaly'] = scored['loss_mae'] > scored['threshold']\n",
    "scored.sort_index(inplace=True)\n",
    "scored"
   ]
  },
  {
   "cell_type": "code",
   "execution_count": 218,
   "id": "78a8f42f",
   "metadata": {},
   "outputs": [
    {
     "data": {
      "text/plain": [
       "anomaly\n",
       "False    479\n",
       "True     283\n",
       "Name: count, dtype: int64"
      ]
     },
     "execution_count": 218,
     "metadata": {},
     "output_type": "execute_result"
    }
   ],
   "source": [
    "scored.anomaly.value_counts()"
   ]
  },
  {
   "cell_type": "code",
   "execution_count": 219,
   "id": "6ec20b47",
   "metadata": {},
   "outputs": [
    {
     "name": "stdout",
     "output_type": "stream",
     "text": [
      "7/7 [==============================] - 0s 3ms/step\n"
     ]
    },
    {
     "data": {
      "text/html": [
       "<div>\n",
       "<style scoped>\n",
       "    .dataframe tbody tr th:only-of-type {\n",
       "        vertical-align: middle;\n",
       "    }\n",
       "\n",
       "    .dataframe tbody tr th {\n",
       "        vertical-align: top;\n",
       "    }\n",
       "\n",
       "    .dataframe thead th {\n",
       "        text-align: right;\n",
       "    }\n",
       "</style>\n",
       "<table border=\"1\" class=\"dataframe\">\n",
       "  <thead>\n",
       "    <tr style=\"text-align: right;\">\n",
       "      <th></th>\n",
       "      <th>loss_mae</th>\n",
       "      <th>threshold</th>\n",
       "      <th>anomaly</th>\n",
       "    </tr>\n",
       "    <tr>\n",
       "      <th>timestamp</th>\n",
       "      <th></th>\n",
       "      <th></th>\n",
       "      <th></th>\n",
       "    </tr>\n",
       "  </thead>\n",
       "  <tbody>\n",
       "    <tr>\n",
       "      <th>2004-02-12 10:32:39</th>\n",
       "      <td>0.166104</td>\n",
       "      <td>0.19</td>\n",
       "      <td>False</td>\n",
       "    </tr>\n",
       "    <tr>\n",
       "      <th>2004-02-12 10:42:39</th>\n",
       "      <td>0.159019</td>\n",
       "      <td>0.19</td>\n",
       "      <td>False</td>\n",
       "    </tr>\n",
       "    <tr>\n",
       "      <th>2004-02-12 10:52:39</th>\n",
       "      <td>0.159623</td>\n",
       "      <td>0.19</td>\n",
       "      <td>False</td>\n",
       "    </tr>\n",
       "    <tr>\n",
       "      <th>2004-02-12 11:02:39</th>\n",
       "      <td>0.158639</td>\n",
       "      <td>0.19</td>\n",
       "      <td>False</td>\n",
       "    </tr>\n",
       "    <tr>\n",
       "      <th>2004-02-12 11:12:39</th>\n",
       "      <td>0.155401</td>\n",
       "      <td>0.19</td>\n",
       "      <td>False</td>\n",
       "    </tr>\n",
       "    <tr>\n",
       "      <th>...</th>\n",
       "      <td>...</td>\n",
       "      <td>...</td>\n",
       "      <td>...</td>\n",
       "    </tr>\n",
       "    <tr>\n",
       "      <th>2004-02-19 05:42:39</th>\n",
       "      <td>3.096529</td>\n",
       "      <td>0.19</td>\n",
       "      <td>True</td>\n",
       "    </tr>\n",
       "    <tr>\n",
       "      <th>2004-02-19 05:52:39</th>\n",
       "      <td>1.712595</td>\n",
       "      <td>0.19</td>\n",
       "      <td>True</td>\n",
       "    </tr>\n",
       "    <tr>\n",
       "      <th>2004-02-19 06:02:39</th>\n",
       "      <td>1.833337</td>\n",
       "      <td>0.19</td>\n",
       "      <td>True</td>\n",
       "    </tr>\n",
       "    <tr>\n",
       "      <th>2004-02-19 06:12:39</th>\n",
       "      <td>1.036622</td>\n",
       "      <td>0.19</td>\n",
       "      <td>True</td>\n",
       "    </tr>\n",
       "    <tr>\n",
       "      <th>2004-02-19 06:22:39</th>\n",
       "      <td>1.042057</td>\n",
       "      <td>0.19</td>\n",
       "      <td>True</td>\n",
       "    </tr>\n",
       "  </tbody>\n",
       "</table>\n",
       "<p>984 rows × 3 columns</p>\n",
       "</div>"
      ],
      "text/plain": [
       "                     loss_mae  threshold  anomaly\n",
       "timestamp                                        \n",
       "2004-02-12 10:32:39  0.166104       0.19    False\n",
       "2004-02-12 10:42:39  0.159019       0.19    False\n",
       "2004-02-12 10:52:39  0.159623       0.19    False\n",
       "2004-02-12 11:02:39  0.158639       0.19    False\n",
       "2004-02-12 11:12:39  0.155401       0.19    False\n",
       "...                       ...        ...      ...\n",
       "2004-02-19 05:42:39  3.096529       0.19     True\n",
       "2004-02-19 05:52:39  1.712595       0.19     True\n",
       "2004-02-19 06:02:39  1.833337       0.19     True\n",
       "2004-02-19 06:12:39  1.036622       0.19     True\n",
       "2004-02-19 06:22:39  1.042057       0.19     True\n",
       "\n",
       "[984 rows x 3 columns]"
      ]
     },
     "execution_count": 219,
     "metadata": {},
     "output_type": "execute_result"
    }
   ],
   "source": [
    "X_pred_train = model.predict(np.array(X_train))\n",
    "X_pred_train = pd.DataFrame(X_pred_train, \n",
    "                      columns=X_train.columns)\n",
    "X_pred_train.index = X_train.index\n",
    "\n",
    "scored_train = pd.DataFrame(index=X_train.index)\n",
    "scored_train['loss_mae'] = np.mean(np.abs(X_pred_train-X_train), axis = 1)\n",
    "scored_train['threshold'] = threshold\n",
    "scored_train['anomaly'] = scored_train['loss_mae'] > scored_train['threshold']\n",
    "scored = pd.concat([scored_train, scored])\n",
    "scored"
   ]
  },
  {
   "cell_type": "code",
   "execution_count": 220,
   "id": "0a861208",
   "metadata": {},
   "outputs": [
    {
     "data": {
      "text/html": [
       "<div>\n",
       "<style scoped>\n",
       "    .dataframe tbody tr th:only-of-type {\n",
       "        vertical-align: middle;\n",
       "    }\n",
       "\n",
       "    .dataframe tbody tr th {\n",
       "        vertical-align: top;\n",
       "    }\n",
       "\n",
       "    .dataframe thead th {\n",
       "        text-align: right;\n",
       "    }\n",
       "</style>\n",
       "<table border=\"1\" class=\"dataframe\">\n",
       "  <thead>\n",
       "    <tr style=\"text-align: right;\">\n",
       "      <th></th>\n",
       "      <th>loss_mae</th>\n",
       "      <th>threshold</th>\n",
       "      <th>anomaly</th>\n",
       "    </tr>\n",
       "    <tr>\n",
       "      <th>timestamp</th>\n",
       "      <th></th>\n",
       "      <th></th>\n",
       "      <th></th>\n",
       "    </tr>\n",
       "  </thead>\n",
       "  <tbody>\n",
       "    <tr>\n",
       "      <th>2004-02-17 07:22:39</th>\n",
       "      <td>0.196192</td>\n",
       "      <td>0.19</td>\n",
       "      <td>True</td>\n",
       "    </tr>\n",
       "    <tr>\n",
       "      <th>2004-02-17 07:32:39</th>\n",
       "      <td>0.262657</td>\n",
       "      <td>0.19</td>\n",
       "      <td>True</td>\n",
       "    </tr>\n",
       "    <tr>\n",
       "      <th>2004-02-17 07:42:39</th>\n",
       "      <td>0.266354</td>\n",
       "      <td>0.19</td>\n",
       "      <td>True</td>\n",
       "    </tr>\n",
       "    <tr>\n",
       "      <th>2004-02-17 07:52:39</th>\n",
       "      <td>0.275309</td>\n",
       "      <td>0.19</td>\n",
       "      <td>True</td>\n",
       "    </tr>\n",
       "    <tr>\n",
       "      <th>2004-02-17 08:02:39</th>\n",
       "      <td>0.277920</td>\n",
       "      <td>0.19</td>\n",
       "      <td>True</td>\n",
       "    </tr>\n",
       "    <tr>\n",
       "      <th>...</th>\n",
       "      <td>...</td>\n",
       "      <td>...</td>\n",
       "      <td>...</td>\n",
       "    </tr>\n",
       "    <tr>\n",
       "      <th>2004-02-19 05:42:39</th>\n",
       "      <td>3.096529</td>\n",
       "      <td>0.19</td>\n",
       "      <td>True</td>\n",
       "    </tr>\n",
       "    <tr>\n",
       "      <th>2004-02-19 05:52:39</th>\n",
       "      <td>1.712595</td>\n",
       "      <td>0.19</td>\n",
       "      <td>True</td>\n",
       "    </tr>\n",
       "    <tr>\n",
       "      <th>2004-02-19 06:02:39</th>\n",
       "      <td>1.833337</td>\n",
       "      <td>0.19</td>\n",
       "      <td>True</td>\n",
       "    </tr>\n",
       "    <tr>\n",
       "      <th>2004-02-19 06:12:39</th>\n",
       "      <td>1.036622</td>\n",
       "      <td>0.19</td>\n",
       "      <td>True</td>\n",
       "    </tr>\n",
       "    <tr>\n",
       "      <th>2004-02-19 06:22:39</th>\n",
       "      <td>1.042057</td>\n",
       "      <td>0.19</td>\n",
       "      <td>True</td>\n",
       "    </tr>\n",
       "  </tbody>\n",
       "</table>\n",
       "<p>283 rows × 3 columns</p>\n",
       "</div>"
      ],
      "text/plain": [
       "                     loss_mae  threshold  anomaly\n",
       "timestamp                                        \n",
       "2004-02-17 07:22:39  0.196192       0.19     True\n",
       "2004-02-17 07:32:39  0.262657       0.19     True\n",
       "2004-02-17 07:42:39  0.266354       0.19     True\n",
       "2004-02-17 07:52:39  0.275309       0.19     True\n",
       "2004-02-17 08:02:39  0.277920       0.19     True\n",
       "...                       ...        ...      ...\n",
       "2004-02-19 05:42:39  3.096529       0.19     True\n",
       "2004-02-19 05:52:39  1.712595       0.19     True\n",
       "2004-02-19 06:02:39  1.833337       0.19     True\n",
       "2004-02-19 06:12:39  1.036622       0.19     True\n",
       "2004-02-19 06:22:39  1.042057       0.19     True\n",
       "\n",
       "[283 rows x 3 columns]"
      ]
     },
     "execution_count": 220,
     "metadata": {},
     "output_type": "execute_result"
    }
   ],
   "source": [
    "scored[scored.anomaly == True]"
   ]
  },
  {
   "cell_type": "code",
   "execution_count": 221,
   "id": "45177bad",
   "metadata": {},
   "outputs": [
    {
     "data": {
      "text/plain": [
       "<AxesSubplot:xlabel='timestamp'>"
      ]
     },
     "execution_count": 221,
     "metadata": {},
     "output_type": "execute_result"
    },
    {
     "data": {
      "image/png": "[encoded data removed]",
      "text/plain": [
       "<Figure size 1000x600 with 1 Axes>"
      ]
     },
     "metadata": {},
     "output_type": "display_data"
    }
   ],
   "source": [
    "scored.plot(logy=True,  figsize = (10,6), ylim = [1e-2,1e2], color = ['blue','red'])"
   ]
  },
  {
   "cell_type": "markdown",
   "id": "de84f07e",
   "metadata": {},
   "source": [
    "### Package the predictions for model evaluation and package the model for cloud upload."
   ]
  },
  {
   "cell_type": "code",
   "execution_count": 196,
   "id": "c14fbfab",
   "metadata": {},
   "outputs": [],
   "source": [
    "bucket_size = 2**EXPONENT\n",
    "\n",
    "scored.to_pickle(f\"data/averaged_ft_{bucket_size}_buckes_experiment_2.pkl\")\n"
   ]
  },
  {
   "cell_type": "code",
   "execution_count": null,
   "id": "1e98613d",
   "metadata": {},
   "outputs": [],
   "source": []
  },
  {
   "cell_type": "markdown",
   "id": "2c9abd39",
   "metadata": {},
   "source": [
    "# Creating a baseline model based on classic vibration thresholds\n",
    "\n",
    "Simple idea: \n",
    "Train model by observing maximum of mean deviations per bearing. \n",
    "Then for each data point: \n",
    "    - calculate percentage of max seen so far per bearing and max of that\n",
    "    - decide on threshold between 1 and infinity to decide on warning"
   ]
  },
  {
   "cell_type": "code",
   "execution_count": null,
   "id": "ea362054",
   "metadata": {},
   "outputs": [],
   "source": []
  },
  {
   "cell_type": "code",
   "execution_count": 30,
   "id": "5199564c",
   "metadata": {},
   "outputs": [
    {
     "data": {
      "text/plain": [
       "0.8182867547838502"
      ]
     },
     "execution_count": 30,
     "metadata": {},
     "output_type": "execute_result"
    }
   ],
   "source": [
    "X_full.iloc[0,:].max()"
   ]
  },
  {
   "cell_type": "code",
   "execution_count": 31,
   "id": "199195fb",
   "metadata": {},
   "outputs": [],
   "source": [
    "def calculate_relative_vibrations(df):\n",
    "    \n",
    "    loss = []\n",
    "    for i in range(len(df)):\n",
    "        loss.append(abs(X_full.iloc[i,:].max()))\n",
    "    return pd.DataFrame({'loss':loss}, index=df.index)\n",
    "    "
   ]
  },
  {
   "cell_type": "code",
   "execution_count": 32,
   "id": "b9148e8a",
   "metadata": {},
   "outputs": [],
   "source": [
    "relative_vibes = calculate_relative_vibrations(X_full)"
   ]
  },
  {
   "cell_type": "code",
   "execution_count": 33,
   "id": "900c98d1",
   "metadata": {},
   "outputs": [],
   "source": [
    "relative_vibes.to_pickle(\"data/classic_thresholding_prediction_experiment_2.pkl\")"
   ]
  },
  {
   "cell_type": "code",
   "execution_count": null,
   "id": "89dc57b7",
   "metadata": {},
   "outputs": [],
   "source": []
  }
 ],
 "metadata": {
  "kernelspec": {
   "display_name": "Python 3 (ipykernel)",
   "language": "python",
   "name": "python3"
  },
  "language_info": {
   "codemirror_mode": {
    "name": "ipython",
    "version": 3
   },
   "file_extension": ".py",
   "mimetype": "text/x-python",
   "name": "python",
   "nbconvert_exporter": "python",
   "pygments_lexer": "ipython3",
   "version": "3.10.6"
  },
  "toc": {
   "base_numbering": 1,
   "nav_menu": {},
   "number_sections": true,
   "sideBar": true,
   "skip_h1_title": false,
   "title_cell": "Table of Contents",
   "title_sidebar": "Contents",
   "toc_cell": false,
   "toc_position": {},
   "toc_section_display": true,
   "toc_window_display": false
  }
 },
 "nbformat": 4,
 "nbformat_minor": 5
}
