{
 "cells": [
  {
   "cell_type": "markdown",
   "id": "a28263eb",
   "metadata": {},
   "source": [
    "# Logistic Regression on Simulated Data\n",
    "\n",
    "In this first approach we create a Logistic Regression Model as a baseline classification. We only consider two types of classes \"no fault\" and \"crack\".\n",
    "\n",
    "The approach is the following\n",
    "1. Import the currently generated data and split it into features and target.\n",
    "2. Train a logistic regression model on the data.\n",
    "3. Automate the data generation and import of that data, experiment with different order of magnitude relations between baseline vibration and fault vibration.\n"
   ]
  },
  {
   "cell_type": "markdown",
   "id": "9fd1a4bf",
   "metadata": {},
   "source": [
    "### Import and preprocess data"
   ]
  },
  {
   "cell_type": "code",
   "execution_count": 44,
   "id": "da1e6b41",
   "metadata": {},
   "outputs": [],
   "source": [
    "import os\n",
    "import pandas as pd\n",
    "import numpy as np"
   ]
  },
  {
   "cell_type": "code",
   "execution_count": 9,
   "id": "a7462e00",
   "metadata": {},
   "outputs": [],
   "source": [
    "data_path = os.path.join(os.path.pardir, \"trainproject_data_gen\")\n",
    "data_path\n",
    "\n",
    "no_f_df = pd.read_csv(os.path.join(data_path,'new.csv'))\n",
    "crack_df = pd.read_csv(os.path.join(data_path,'newf1.csv'))"
   ]
  },
  {
   "cell_type": "code",
   "execution_count": 34,
   "id": "a449ddc5",
   "metadata": {},
   "outputs": [
    {
     "data": {
      "text/plain": [
       "(200, 188)"
      ]
     },
     "execution_count": 34,
     "metadata": {},
     "output_type": "execute_result"
    }
   ],
   "source": [
    "df = pd.concat([no_f_df, crack_df], axis=0).drop(columns=['Unnamed: 0'])\n",
    "df.shape\n",
    "\n"
   ]
  },
  {
   "cell_type": "code",
   "execution_count": 23,
   "id": "4d4566d3",
   "metadata": {},
   "outputs": [],
   "source": [
    "target_columns = ['fault_type', 'fault_dis', 'fault_severity']"
   ]
  },
  {
   "cell_type": "code",
   "execution_count": 35,
   "id": "c562c9b0",
   "metadata": {},
   "outputs": [],
   "source": [
    "X = df.drop(columns=target_columns)\n",
    "y = df[target_columns]"
   ]
  },
  {
   "cell_type": "code",
   "execution_count": 36,
   "id": "7927bef4",
   "metadata": {},
   "outputs": [
    {
     "data": {
      "text/html": [
       "<div>\n",
       "<style scoped>\n",
       "    .dataframe tbody tr th:only-of-type {\n",
       "        vertical-align: middle;\n",
       "    }\n",
       "\n",
       "    .dataframe tbody tr th {\n",
       "        vertical-align: top;\n",
       "    }\n",
       "\n",
       "    .dataframe thead th {\n",
       "        text-align: right;\n",
       "    }\n",
       "</style>\n",
       "<table border=\"1\" class=\"dataframe\">\n",
       "  <thead>\n",
       "    <tr style=\"text-align: right;\">\n",
       "      <th></th>\n",
       "      <th>0_200</th>\n",
       "      <th>0_500</th>\n",
       "      <th>0_800</th>\n",
       "      <th>1_200</th>\n",
       "      <th>1_500</th>\n",
       "      <th>1_800</th>\n",
       "      <th>2_200</th>\n",
       "      <th>2_500</th>\n",
       "      <th>2_800</th>\n",
       "      <th>3_200</th>\n",
       "      <th>...</th>\n",
       "      <th>58_500</th>\n",
       "      <th>58_800</th>\n",
       "      <th>59_200</th>\n",
       "      <th>59_500</th>\n",
       "      <th>59_800</th>\n",
       "      <th>60_200</th>\n",
       "      <th>60_500</th>\n",
       "      <th>60_800</th>\n",
       "      <th>train_weight</th>\n",
       "      <th>train_speed</th>\n",
       "    </tr>\n",
       "  </thead>\n",
       "  <tbody>\n",
       "    <tr>\n",
       "      <th>0</th>\n",
       "      <td>7.277163</td>\n",
       "      <td>1.041102</td>\n",
       "      <td>0.395840</td>\n",
       "      <td>8.902663</td>\n",
       "      <td>1.120939</td>\n",
       "      <td>0.414157</td>\n",
       "      <td>11.140477</td>\n",
       "      <td>1.210324</td>\n",
       "      <td>0.433776</td>\n",
       "      <td>14.341716</td>\n",
       "      <td>...</td>\n",
       "      <td>1.108982</td>\n",
       "      <td>0.411463</td>\n",
       "      <td>10.772222</td>\n",
       "      <td>1.196914</td>\n",
       "      <td>0.430889</td>\n",
       "      <td>13.805625</td>\n",
       "      <td>1.295733</td>\n",
       "      <td>0.451723</td>\n",
       "      <td>6925</td>\n",
       "      <td>35</td>\n",
       "    </tr>\n",
       "    <tr>\n",
       "      <th>1</th>\n",
       "      <td>4.822479</td>\n",
       "      <td>0.692274</td>\n",
       "      <td>0.263420</td>\n",
       "      <td>5.860793</td>\n",
       "      <td>0.743705</td>\n",
       "      <td>0.275242</td>\n",
       "      <td>7.274447</td>\n",
       "      <td>0.801087</td>\n",
       "      <td>0.287878</td>\n",
       "      <td>9.268825</td>\n",
       "      <td>...</td>\n",
       "      <td>0.653822</td>\n",
       "      <td>0.254247</td>\n",
       "      <td>4.984568</td>\n",
       "      <td>0.700955</td>\n",
       "      <td>0.265450</td>\n",
       "      <td>6.078513</td>\n",
       "      <td>0.753374</td>\n",
       "      <td>0.277411</td>\n",
       "      <td>4750</td>\n",
       "      <td>34</td>\n",
       "    </tr>\n",
       "    <tr>\n",
       "      <th>2</th>\n",
       "      <td>4.359172</td>\n",
       "      <td>0.604489</td>\n",
       "      <td>0.228184</td>\n",
       "      <td>5.675378</td>\n",
       "      <td>0.664224</td>\n",
       "      <td>0.241658</td>\n",
       "      <td>7.691914</td>\n",
       "      <td>0.733271</td>\n",
       "      <td>0.256361</td>\n",
       "      <td>11.010523</td>\n",
       "      <td>...</td>\n",
       "      <td>3.384864</td>\n",
       "      <td>0.548071</td>\n",
       "      <td>9.591389</td>\n",
       "      <td>4.262840</td>\n",
       "      <td>0.599462</td>\n",
       "      <td>6.849633</td>\n",
       "      <td>5.532607</td>\n",
       "      <td>0.658435</td>\n",
       "      <td>3139</td>\n",
       "      <td>44</td>\n",
       "    </tr>\n",
       "    <tr>\n",
       "      <th>3</th>\n",
       "      <td>5.288889</td>\n",
       "      <td>0.743750</td>\n",
       "      <td>0.281657</td>\n",
       "      <td>6.693750</td>\n",
       "      <td>0.809830</td>\n",
       "      <td>0.296676</td>\n",
       "      <td>8.742857</td>\n",
       "      <td>0.885124</td>\n",
       "      <td>0.312929</td>\n",
       "      <td>11.900000</td>\n",
       "      <td>...</td>\n",
       "      <td>1.673437</td>\n",
       "      <td>0.445786</td>\n",
       "      <td>171360.000000</td>\n",
       "      <td>1.904000</td>\n",
       "      <td>0.476000</td>\n",
       "      <td>428.400000</td>\n",
       "      <td>2.185714</td>\n",
       "      <td>0.509394</td>\n",
       "      <td>4284</td>\n",
       "      <td>40</td>\n",
       "    </tr>\n",
       "    <tr>\n",
       "      <th>4</th>\n",
       "      <td>13.139311</td>\n",
       "      <td>1.828459</td>\n",
       "      <td>0.690767</td>\n",
       "      <td>16.984381</td>\n",
       "      <td>2.004549</td>\n",
       "      <td>0.730562</td>\n",
       "      <td>22.801868</td>\n",
       "      <td>2.207358</td>\n",
       "      <td>0.773898</td>\n",
       "      <td>32.213604</td>\n",
       "      <td>...</td>\n",
       "      <td>7.811727</td>\n",
       "      <td>1.481980</td>\n",
       "      <td>51.684938</td>\n",
       "      <td>9.493152</td>\n",
       "      <td>1.609566</td>\n",
       "      <td>33.674355</td>\n",
       "      <td>11.782198</td>\n",
       "      <td>1.754365</td>\n",
       "      <td>9736</td>\n",
       "      <td>43</td>\n",
       "    </tr>\n",
       "  </tbody>\n",
       "</table>\n",
       "<p>5 rows × 185 columns</p>\n",
       "</div>"
      ],
      "text/plain": [
       "       0_200     0_500     0_800      1_200     1_500     1_800      2_200  \\\n",
       "0   7.277163  1.041102  0.395840   8.902663  1.120939  0.414157  11.140477   \n",
       "1   4.822479  0.692274  0.263420   5.860793  0.743705  0.275242   7.274447   \n",
       "2   4.359172  0.604489  0.228184   5.675378  0.664224  0.241658   7.691914   \n",
       "3   5.288889  0.743750  0.281657   6.693750  0.809830  0.296676   8.742857   \n",
       "4  13.139311  1.828459  0.690767  16.984381  2.004549  0.730562  22.801868   \n",
       "\n",
       "      2_500     2_800      3_200  ...    58_500    58_800         59_200  \\\n",
       "0  1.210324  0.433776  14.341716  ...  1.108982  0.411463      10.772222   \n",
       "1  0.801087  0.287878   9.268825  ...  0.653822  0.254247       4.984568   \n",
       "2  0.733271  0.256361  11.010523  ...  3.384864  0.548071       9.591389   \n",
       "3  0.885124  0.312929  11.900000  ...  1.673437  0.445786  171360.000000   \n",
       "4  2.207358  0.773898  32.213604  ...  7.811727  1.481980      51.684938   \n",
       "\n",
       "     59_500    59_800      60_200     60_500    60_800  train_weight  \\\n",
       "0  1.196914  0.430889   13.805625   1.295733  0.451723          6925   \n",
       "1  0.700955  0.265450    6.078513   0.753374  0.277411          4750   \n",
       "2  4.262840  0.599462    6.849633   5.532607  0.658435          3139   \n",
       "3  1.904000  0.476000  428.400000   2.185714  0.509394          4284   \n",
       "4  9.493152  1.609566   33.674355  11.782198  1.754365          9736   \n",
       "\n",
       "   train_speed  \n",
       "0           35  \n",
       "1           34  \n",
       "2           44  \n",
       "3           40  \n",
       "4           43  \n",
       "\n",
       "[5 rows x 185 columns]"
      ]
     },
     "execution_count": 36,
     "metadata": {},
     "output_type": "execute_result"
    }
   ],
   "source": [
    "X.head()"
   ]
  },
  {
   "cell_type": "code",
   "execution_count": 38,
   "id": "c389e59c",
   "metadata": {},
   "outputs": [
    {
     "data": {
      "text/plain": [
       "fault_type        object\n",
       "fault_dis          int64\n",
       "fault_severity     int64\n",
       "dtype: object"
      ]
     },
     "execution_count": 38,
     "metadata": {},
     "output_type": "execute_result"
    }
   ],
   "source": [
    "squared_data = data.map(lambda x: x**2)\n",
    "\n",
    "fault_dict = {np.nan}\n",
    "\n"
   ]
  },
  {
   "cell_type": "code",
   "execution_count": 46,
   "id": "b24bc01e",
   "metadata": {},
   "outputs": [
    {
     "ename": "AttributeError",
     "evalue": "module 'pandas' has no attribute 'nnan'",
     "output_type": "error",
     "traceback": [
      "\u001b[0;31m---------------------------------------------------------------------------\u001b[0m",
      "\u001b[0;31mAttributeError\u001b[0m                            Traceback (most recent call last)",
      "Cell \u001b[0;32mIn [46], line 1\u001b[0m\n\u001b[0;32m----> 1\u001b[0m \u001b[43mpd\u001b[49m\u001b[38;5;241;43m.\u001b[39;49m\u001b[43mnnan\u001b[49m\n",
      "\u001b[0;31mAttributeError\u001b[0m: module 'pandas' has no attribute 'nnan'"
     ]
    }
   ],
   "source": []
  },
  {
   "cell_type": "code",
   "execution_count": null,
   "id": "3530faf9",
   "metadata": {},
   "outputs": [],
   "source": []
  }
 ],
 "metadata": {
  "kernelspec": {
   "display_name": "Python 3 (ipykernel)",
   "language": "python",
   "name": "python3"
  },
  "language_info": {
   "codemirror_mode": {
    "name": "ipython",
    "version": 3
   },
   "file_extension": ".py",
   "mimetype": "text/x-python",
   "name": "python",
   "nbconvert_exporter": "python",
   "pygments_lexer": "ipython3",
   "version": "3.10.6"
  },
  "toc": {
   "base_numbering": 1,
   "nav_menu": {},
   "number_sections": true,
   "sideBar": true,
   "skip_h1_title": false,
   "title_cell": "Table of Contents",
   "title_sidebar": "Contents",
   "toc_cell": false,
   "toc_position": {},
   "toc_section_display": true,
   "toc_window_display": false
  }
 },
 "nbformat": 4,
 "nbformat_minor": 5
}
